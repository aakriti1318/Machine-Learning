{
 "cells": [
  {
   "cell_type": "code",
   "execution_count": 1,
   "id": "2f597efa",
   "metadata": {},
   "outputs": [],
   "source": [
    "import PyPDF2\n",
    "import warnings\n",
    "import textract \n",
    "from autocorrect import Speller\n",
    "from nltk.tokenize import word_tokenize\n",
    "import nltk\n",
    "import re\n",
    "import string\n",
    "from nltk.corpus import stopwords, brown\n",
    "from nltk.tokenize import word_tokenize, sent_tokenize, RegexpTokenizer\n",
    "from nltk.stem import WordNetLemmatizer\n",
    "from autocorrect import spell\n",
    "warnings.filterwarnings(\"ignore\",category=DeprecationWarning)"
   ]
  },
  {
   "cell_type": "code",
   "execution_count": 2,
   "id": "d7590607",
   "metadata": {},
   "outputs": [],
   "source": [
    "filename = 'aakriti_aadhar.pdf'\n",
    "open_filename = open(filename, 'rb')\n",
    "\n",
    "ind_manifesto = PyPDF2.PdfFileReader(open_filename)"
   ]
  },
  {
   "cell_type": "code",
   "execution_count": 3,
   "id": "042a2d19",
   "metadata": {},
   "outputs": [
    {
     "data": {
      "text/plain": [
       "{'/Creator': 'Adobe Scan for Android 20.12.09-regular',\n",
       " '/Producer': 'Adobe Scan for Android 20.12.09-regular'}"
      ]
     },
     "execution_count": 3,
     "metadata": {},
     "output_type": "execute_result"
    }
   ],
   "source": [
    "ind_manifesto.getDocumentInfo()"
   ]
  },
  {
   "cell_type": "code",
   "execution_count": 4,
   "id": "4b522992",
   "metadata": {},
   "outputs": [
    {
     "name": "stdout",
     "output_type": "stream",
     "text": [
      "File Size is : 425101 bytes\n"
     ]
    }
   ],
   "source": [
    "import os\n",
    " \n",
    "file_size = os.path.getsize(filename)\n",
    "print(\"File Size is :\", file_size, \"bytes\")"
   ]
  },
  {
   "cell_type": "code",
   "execution_count": 5,
   "id": "f722052b",
   "metadata": {},
   "outputs": [
    {
     "data": {
      "text/plain": [
       "2"
      ]
     },
     "execution_count": 5,
     "metadata": {},
     "output_type": "execute_result"
    }
   ],
   "source": [
    "total_pages = ind_manifesto.numPages\n",
    "total_pages"
   ]
  },
  {
   "cell_type": "code",
   "execution_count": 6,
   "id": "8e46f406",
   "metadata": {},
   "outputs": [],
   "source": [
    "def isValid(total_pages):\n",
    "    if total_pages > 3:\n",
    "        print(\"invalid document\")\n",
    "    else:\n",
    "        print(\"valid document\")"
   ]
  },
  {
   "cell_type": "code",
   "execution_count": 7,
   "id": "fa540e89",
   "metadata": {},
   "outputs": [
    {
     "name": "stdout",
     "output_type": "stream",
     "text": [
      "valid document\n"
     ]
    }
   ],
   "source": [
    "isValid(total_pages)"
   ]
  },
  {
   "cell_type": "code",
   "execution_count": 8,
   "id": "ae34b0bd",
   "metadata": {},
   "outputs": [],
   "source": [
    "count = 0\n",
    "text  = ''\n",
    "\n",
    "# Lets loop through, to read each page from the pdf file\n",
    "while(count < total_pages):\n",
    "    # Get the specified number of pages in the document\n",
    "    mani_page  = ind_manifesto.getPage(count)\n",
    "    # Process the next page\n",
    "    count += 1\n",
    "    # Extract the text from the page\n",
    "    text += mani_page.extractText()"
   ]
  },
  {
   "cell_type": "code",
   "execution_count": 9,
   "id": "9d3c5019",
   "metadata": {},
   "outputs": [],
   "source": [
    "if text != '':\n",
    "    text = text\n",
    "else:\n",
    "    textract.process(open_filename, method='tesseract', encoding='utf-8', langauge='eng' )    \n"
   ]
  },
  {
   "cell_type": "code",
   "execution_count": 10,
   "id": "7a4604e9",
   "metadata": {},
   "outputs": [
    {
     "name": "stdout",
     "output_type": "stream",
     "text": [
      "governmentof india aakriti aggarwal t4 ffdob : 13/04/2000hfet female 3128 1900 6203 34t t-th 3teut t 3t9tt unique identificationauthorityof india aadhaar address : d/o : t4fr t , d/o deepak kumar jindal , e6 sector 03 , ansal shushant city , ansal -6 hrr 03 , 3ht sttít shushant citly , meerut meerut utar pradesh-250103te , 34 tat r , r5 , hte , 3 tt-2501033128 1900 6203 aadhaar-aamadmi ka adhikar\n"
     ]
    }
   ],
   "source": [
    "def to_lower(text):\n",
    "    spell  = Speller(lang='en')\n",
    "    texts = spell(text)\n",
    "    return ' '.join([w.lower() for w in word_tokenize(text)])\n",
    "\n",
    "lower_case = to_lower(text)\n",
    "\n",
    "print(lower_case)"
   ]
  },
  {
   "cell_type": "code",
   "execution_count": 11,
   "id": "cb9c46d1",
   "metadata": {},
   "outputs": [],
   "source": [
    "def clean_text(lower_case):\n",
    "    # split text phrases into words\n",
    "    words  = nltk.word_tokenize(lower_case)\n",
    "    \n",
    "    \n",
    "    # Create a list of all the punctuations we wish to remove\n",
    "    punctuations = ['.', ',', '/', '!', '?', ';', ':', '(',')', '[',']', '-', '_', '%']\n",
    "    \n",
    "    # Remove all the special characters\n",
    "    punctuations = re.sub(r'\\W', ' ', str(lower_case))\n",
    "    \n",
    "    # Initialize the stopwords variable, which is a list of words ('and', 'the', 'i', 'yourself', 'is') that do not hold much values as key words\n",
    "    stop_words  = stopwords.words('english')\n",
    "    \n",
    "    # Getting rid of all the words that contain numbers in them\n",
    "    w_num = re.sub('\\w*\\d\\w*', '', lower_case).strip()\n",
    "    \n",
    "    # remove all single characters\n",
    "    lower_case = re.sub(r'\\s+[a-zA-Z]\\s+', ' ', lower_case)\n",
    "    \n",
    "    # Substituting multiple spaces with single space\n",
    "    lower_case = re.sub(r'\\s+', ' ', lower_case, flags=re.I)\n",
    "    \n",
    "    # Removing prefixed 'b'\n",
    "    lower_case = re.sub(r'^b\\s+', '', lower_case)\n",
    "    \n",
    "    \n",
    "    \n",
    "    # Removing non-english characters\n",
    "    lower_case = re.sub(r'^b\\s+', '', lower_case)\n",
    "    \n",
    "    # Return keywords which are not in stop words \n",
    "    keywords = [word for word in words if not word in stop_words  and word in punctuations and  word in w_num]\n",
    "    \n",
    "    return keywords"
   ]
  },
  {
   "cell_type": "code",
   "execution_count": 12,
   "id": "e891784f",
   "metadata": {},
   "outputs": [
    {
     "name": "stdout",
     "output_type": "stream",
     "text": [
      "governmentof india aakriti aggarwal ffdob female unique identificationauthorityof india aadhaar address deepak kumar jindal sector ansal shushant city ansal hrr sttít shushant citly meerut meerut utar tat r hte ka adhikar\n"
     ]
    }
   ],
   "source": [
    "# Lemmatize the words\n",
    "wordnet_lemmatizer = WordNetLemmatizer()\n",
    "\n",
    "lemmatized_word = [wordnet_lemmatizer.lemmatize(word) for word in clean_text(lower_case)]\n",
    "\n",
    "# lets print out the output from our function above and see how the data looks like\n",
    "clean_data = ' '.join(lemmatized_word)\n",
    "print(clean_data)"
   ]
  },
  {
   "cell_type": "code",
   "execution_count": 13,
   "id": "ca0b58c4",
   "metadata": {},
   "outputs": [],
   "source": [
    "import pandas as pd"
   ]
  },
  {
   "cell_type": "code",
   "execution_count": 14,
   "id": "82bfac58",
   "metadata": {},
   "outputs": [],
   "source": [
    "df = pd.read_csv('document.csv')"
   ]
  },
  {
   "cell_type": "code",
   "execution_count": 15,
   "id": "53630681",
   "metadata": {},
   "outputs": [
    {
     "data": {
      "text/html": [
       "<div>\n",
       "<style scoped>\n",
       "    .dataframe tbody tr th:only-of-type {\n",
       "        vertical-align: middle;\n",
       "    }\n",
       "\n",
       "    .dataframe tbody tr th {\n",
       "        vertical-align: top;\n",
       "    }\n",
       "\n",
       "    .dataframe thead th {\n",
       "        text-align: right;\n",
       "    }\n",
       "</style>\n",
       "<table border=\"1\" class=\"dataframe\">\n",
       "  <thead>\n",
       "    <tr style=\"text-align: right;\">\n",
       "      <th></th>\n",
       "      <th>document</th>\n",
       "      <th>Class</th>\n",
       "    </tr>\n",
       "  </thead>\n",
       "  <tbody>\n",
       "    <tr>\n",
       "      <th>0</th>\n",
       "      <td>Aadhar Card</td>\n",
       "      <td>Government India Name DOB Gender Aadhar Address</td>\n",
       "    </tr>\n",
       "    <tr>\n",
       "      <th>1</th>\n",
       "      <td>Pan Card</td>\n",
       "      <td>IncomeTax Department India Permanent Account N...</td>\n",
       "    </tr>\n",
       "    <tr>\n",
       "      <th>2</th>\n",
       "      <td>Resume</td>\n",
       "      <td>Organize Information Technology Project Work</td>\n",
       "    </tr>\n",
       "    <tr>\n",
       "      <th>3</th>\n",
       "      <td>Passport</td>\n",
       "      <td>Issue Authority Date Nationality Name Expiry P...</td>\n",
       "    </tr>\n",
       "    <tr>\n",
       "      <th>4</th>\n",
       "      <td>Certificate</td>\n",
       "      <td>Board Secondary Education Senior School India ...</td>\n",
       "    </tr>\n",
       "  </tbody>\n",
       "</table>\n",
       "</div>"
      ],
      "text/plain": [
       "      document                                              Class\n",
       "0  Aadhar Card    Government India Name DOB Gender Aadhar Address\n",
       "1     Pan Card  IncomeTax Department India Permanent Account N...\n",
       "2       Resume       Organize Information Technology Project Work\n",
       "3     Passport  Issue Authority Date Nationality Name Expiry P...\n",
       "4  Certificate  Board Secondary Education Senior School India ..."
      ]
     },
     "execution_count": 15,
     "metadata": {},
     "output_type": "execute_result"
    }
   ],
   "source": [
    "df.head()"
   ]
  },
  {
   "cell_type": "code",
   "execution_count": 16,
   "id": "e262545d",
   "metadata": {},
   "outputs": [
    {
     "name": "stdout",
     "output_type": "stream",
     "text": [
      "<class 'pandas.core.frame.DataFrame'>\n",
      "RangeIndex: 99 entries, 0 to 98\n",
      "Data columns (total 2 columns):\n",
      " #   Column    Non-Null Count  Dtype \n",
      "---  ------    --------------  ----- \n",
      " 0   document  99 non-null     object\n",
      " 1   Class     99 non-null     object\n",
      "dtypes: object(2)\n",
      "memory usage: 1.7+ KB\n"
     ]
    }
   ],
   "source": [
    "df.info()"
   ]
  },
  {
   "cell_type": "code",
   "execution_count": 17,
   "id": "1e6f2585",
   "metadata": {},
   "outputs": [
    {
     "data": {
      "text/plain": [
       "Index(['document', 'Class'], dtype='object')"
      ]
     },
     "execution_count": 17,
     "metadata": {},
     "output_type": "execute_result"
    }
   ],
   "source": [
    "df.columns"
   ]
  },
  {
   "cell_type": "code",
   "execution_count": 18,
   "id": "7fd34b89",
   "metadata": {},
   "outputs": [],
   "source": [
    "df['category_id'] = df['document'].factorize()[0]\n",
    "from io import StringIO\n",
    "category_id_df = df[['document', 'category_id']].drop_duplicates().sort_values('category_id')\n",
    "category_to_id = dict(category_id_df.values)\n",
    "id_to_category = dict(category_id_df[['category_id', 'document']].values)"
   ]
  },
  {
   "cell_type": "code",
   "execution_count": 19,
   "id": "5b783aa4",
   "metadata": {},
   "outputs": [
    {
     "data": {
      "text/html": [
       "<div>\n",
       "<style scoped>\n",
       "    .dataframe tbody tr th:only-of-type {\n",
       "        vertical-align: middle;\n",
       "    }\n",
       "\n",
       "    .dataframe tbody tr th {\n",
       "        vertical-align: top;\n",
       "    }\n",
       "\n",
       "    .dataframe thead th {\n",
       "        text-align: right;\n",
       "    }\n",
       "</style>\n",
       "<table border=\"1\" class=\"dataframe\">\n",
       "  <thead>\n",
       "    <tr style=\"text-align: right;\">\n",
       "      <th></th>\n",
       "      <th>document</th>\n",
       "      <th>Class</th>\n",
       "      <th>category_id</th>\n",
       "    </tr>\n",
       "  </thead>\n",
       "  <tbody>\n",
       "    <tr>\n",
       "      <th>0</th>\n",
       "      <td>Aadhar Card</td>\n",
       "      <td>Government India Name DOB Gender Aadhar Address</td>\n",
       "      <td>0</td>\n",
       "    </tr>\n",
       "    <tr>\n",
       "      <th>1</th>\n",
       "      <td>Pan Card</td>\n",
       "      <td>IncomeTax Department India Permanent Account N...</td>\n",
       "      <td>1</td>\n",
       "    </tr>\n",
       "    <tr>\n",
       "      <th>2</th>\n",
       "      <td>Resume</td>\n",
       "      <td>Organize Information Technology Project Work</td>\n",
       "      <td>2</td>\n",
       "    </tr>\n",
       "    <tr>\n",
       "      <th>3</th>\n",
       "      <td>Passport</td>\n",
       "      <td>Issue Authority Date Nationality Name Expiry P...</td>\n",
       "      <td>3</td>\n",
       "    </tr>\n",
       "    <tr>\n",
       "      <th>4</th>\n",
       "      <td>Certificate</td>\n",
       "      <td>Board Secondary Education Senior School India ...</td>\n",
       "      <td>4</td>\n",
       "    </tr>\n",
       "  </tbody>\n",
       "</table>\n",
       "</div>"
      ],
      "text/plain": [
       "      document                                              Class  category_id\n",
       "0  Aadhar Card    Government India Name DOB Gender Aadhar Address            0\n",
       "1     Pan Card  IncomeTax Department India Permanent Account N...            1\n",
       "2       Resume       Organize Information Technology Project Work            2\n",
       "3     Passport  Issue Authority Date Nationality Name Expiry P...            3\n",
       "4  Certificate  Board Secondary Education Senior School India ...            4"
      ]
     },
     "execution_count": 19,
     "metadata": {},
     "output_type": "execute_result"
    }
   ],
   "source": [
    "df.head()"
   ]
  },
  {
   "cell_type": "code",
   "execution_count": 20,
   "id": "358144ba",
   "metadata": {},
   "outputs": [
    {
     "data": {
      "image/png": "[encoded data removed]",
      "text/plain": [
       "<Figure size 576x432 with 1 Axes>"
      ]
     },
     "metadata": {
      "needs_background": "light"
     },
     "output_type": "display_data"
    }
   ],
   "source": [
    "import matplotlib.pyplot as plt\n",
    "fig = plt.figure(figsize=(8,6))\n",
    "df.groupby('document').Class.count().plot.bar(ylim=0)\n",
    "plt.show()"
   ]
  },
  {
   "cell_type": "code",
   "execution_count": 21,
   "id": "a953d167",
   "metadata": {},
   "outputs": [
    {
     "data": {
      "text/plain": [
       "(99, 91)"
      ]
     },
     "execution_count": 21,
     "metadata": {},
     "output_type": "execute_result"
    }
   ],
   "source": [
    "from sklearn.feature_extraction.text import TfidfVectorizer\n",
    "\n",
    "tfidf = TfidfVectorizer(sublinear_tf=True, min_df=5, norm='l2', encoding='latin-1', ngram_range=(1, 2), stop_words='english')\n",
    "\n",
    "features = tfidf.fit_transform(df.Class).toarray()\n",
    "labels = df.category_id\n",
    "features.shape"
   ]
  },
  {
   "cell_type": "code",
   "execution_count": 22,
   "id": "3556c4d6",
   "metadata": {},
   "outputs": [
    {
     "name": "stdout",
     "output_type": "stream",
     "text": [
      "# 'Aadhar Card':\n",
      "  . Most correlated unigrams:\n",
      "       . gender\n",
      "       . aadhar\n",
      "  . Most correlated bigrams:\n",
      "       . gender aadhar\n",
      "       . india dob\n",
      "# 'Certificate':\n",
      "  . Most correlated unigrams:\n",
      "       . roll\n",
      "       . english\n",
      "  . Most correlated bigrams:\n",
      "       . english board\n",
      "       . roll english\n",
      "# 'Marksheet ':\n",
      "  . Most correlated unigrams:\n",
      "       . admission\n",
      "       . grade\n",
      "  . Most correlated bigrams:\n",
      "       . examination grade\n",
      "       . grade mother\n",
      "# 'Pan Card':\n",
      "  . Most correlated unigrams:\n",
      "       . number\n",
      "       . card\n",
      "  . Most correlated bigrams:\n",
      "       . father date\n",
      "       . permanent account\n",
      "# 'Passport':\n",
      "  . Most correlated unigrams:\n",
      "       . passport\n",
      "       . nationality\n",
      "  . Most correlated bigrams:\n",
      "       . date nationality\n",
      "       . issue authority\n",
      "# 'Resume':\n",
      "  . Most correlated unigrams:\n",
      "       . responsibility\n",
      "       . cgpa\n",
      "  . Most correlated bigrams:\n",
      "       . information technology\n",
      "       . cgpa responsibility\n"
     ]
    }
   ],
   "source": [
    "from sklearn.feature_selection import chi2\n",
    "import numpy as np\n",
    "\n",
    "N = 2\n",
    "for Product, category_id in sorted(category_to_id.items()):\n",
    "  features_chi2 = chi2(features, labels == category_id)\n",
    "  indices = np.argsort(features_chi2[0])\n",
    "  feature_names = np.array(tfidf.get_feature_names())[indices]\n",
    "  unigrams = [v for v in feature_names if len(v.split(' ')) == 1]\n",
    "  bigrams = [v for v in feature_names if len(v.split(' ')) == 2]\n",
    "  print(\"# '{}':\".format(Product))\n",
    "  print(\"  . Most correlated unigrams:\\n       . {}\".format('\\n       . '.join(unigrams[-N:])))\n",
    "  print(\"  . Most correlated bigrams:\\n       . {}\".format('\\n       . '.join(bigrams[-N:])))"
   ]
  },
  {
   "cell_type": "code",
   "execution_count": 23,
   "id": "1220bcf8",
   "metadata": {},
   "outputs": [],
   "source": [
    "from sklearn.model_selection import train_test_split\n",
    "from sklearn.feature_extraction.text import CountVectorizer\n",
    "from sklearn.feature_extraction.text import TfidfTransformer\n",
    "from sklearn.naive_bayes import MultinomialNB\n",
    "\n",
    "X_train, X_test, y_train, y_test = train_test_split(df['Class'], df['document'], random_state = 0)\n",
    "count_vect = CountVectorizer()\n",
    "X_train_counts = count_vect.fit_transform(X_train)\n",
    "tfidf_transformer = TfidfTransformer()\n",
    "X_train_tfidf = tfidf_transformer.fit_transform(X_train_counts)\n",
    "\n",
    "clf = MultinomialNB().fit(X_train_tfidf, y_train)"
   ]
  },
  {
   "cell_type": "code",
   "execution_count": 24,
   "id": "954995e1",
   "metadata": {},
   "outputs": [
    {
     "name": "stdout",
     "output_type": "stream",
     "text": [
      "['Aadhar Card']\n"
     ]
    }
   ],
   "source": [
    "print(clf.predict(count_vect.transform([clean_data])))"
   ]
  },
  {
   "cell_type": "code",
   "execution_count": null,
   "id": "d39341b9",
   "metadata": {},
   "outputs": [],
   "source": []
  }
 ],
 "metadata": {
  "kernelspec": {
   "display_name": "Python 3",
   "language": "python",
   "name": "python3"
  },
  "language_info": {
   "codemirror_mode": {
    "name": "ipython",
    "version": 3
   },
   "file_extension": ".py",
   "mimetype": "text/x-python",
   "name": "python",
   "nbconvert_exporter": "python",
   "pygments_lexer": "ipython3",
   "version": "3.8.5"
  }
 },
 "nbformat": 4,
 "nbformat_minor": 5
}
